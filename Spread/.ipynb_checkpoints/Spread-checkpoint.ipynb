{
 "cells": [
  {
   "cell_type": "markdown",
   "id": "1dd36ea7",
   "metadata": {},
   "source": [
    "***Definition***(Market Liquidity).   \n",
    "Market Liquidity is a market's ability to facilitate an asset being sold quickly without having to reduce its price  very much. \n",
    "\n",
    "***Definition***(Market Depth).   \n",
    "Measures how big an order is required to change the price of an asset,asy, 10 cents. \n",
    "\n",
    "### Two rough categories of market setups.  \n",
    "**1. Order-driven markets**  \n",
    "If you willing to sell or buy then the other trader can be maching.  \n",
    "- Continuous market  \n",
    "    - Order type\n",
    "       - Limit Order (Patient trader)\n",
    "       - Market Order (Impatient tradr)  \n",
    "  ex) NYSE , LSE, etc\n",
    "- Call auctions(batch)  \n",
    "  operate call auctions together whith other trading methods.\n",
    "  ex) Nasdaq etc. \n",
    "       \n",
    "**2. Dealer markets**   \n",
    "- Trade though by dealer.  \n",
    "- prices are fixed by a dealer.   \n",
    "    - Dealer costs: Transacions and operations costs, Inventory cots and adverse selection costs.\n",
    "\n",
    "### Liquidity measures\n",
    "\n",
    "***1. Spread measures:*** quoted spread, effective spread, realized spred.  \n",
    "***2. Volume-weighted average price:*** simply usig average prices.  \n",
    "***3. Price impact:*** How much does the price move after a trade  \n",
    "***4. None-trading measures:*** trading volumes.  \n",
    "\n",
    "Lee-Ready algorithm: When trade direction is not available.  \n",
    "Roll's measure: When quote data are not available.\n",
    "\n",
    "\n"
   ]
  },
  {
   "cell_type": "markdown",
   "id": "c00ba9be",
   "metadata": {},
   "source": [
    "### Quoted spread \n",
    "***Definition***(Quoted spread).   \n",
    "$S_t = a_t - b_t$  \n",
    "***Definitoin***(Normalized quoted spread).   \n",
    "$s_t = s_t/m_t$ where $m_t$ is the mideprice $m_t=a_t+b_t/2$\n",
    "\n",
    "We can generalize it to consider average spread for trade size q  \n",
    "$S_{t}(q)=\\bar{a}_{t}(q)-\\bar{b}_{t}(q)$"
   ]
  },
  {
   "cell_type": "code",
   "execution_count": 2,
   "id": "c4ad3330",
   "metadata": {},
   "outputs": [
    {
     "data": {
      "text/plain": [
       "[<matplotlib.lines.Line2D at 0x1221e3430>]"
      ]
     },
     "execution_count": 2,
     "metadata": {},
     "output_type": "execute_result"
    },
    {
     "data": {
      "image/png": "[encoded data removed]",
      "text/plain": [
       "<Figure size 432x288 with 1 Axes>"
      ]
     },
     "metadata": {
      "needs_background": "light"
     },
     "output_type": "display_data"
    }
   ],
   "source": [
    "import numpy as np\n",
    "import matplotlib.pyplot as plt\n",
    "import pandas as pd \n",
    "\n",
    "KrispyData = pd.read_excel(io=\"Data_Sets_Chapter_2_data_KrispyKreme.xls\")\n",
    "\n",
    "spread = KrispyData['Ask'] - KrispyData['Bid'] \n",
    "midprice = (KrispyData['Ask'] + KrispyData['Bid'])/2\n",
    "Norm_spread = spread/midprice \n",
    "\n",
    "KrispyData['spread'] = spread\n",
    "KrispyData['midprice'] = midprice\n",
    "KrispyData['Norm_spread'] = Norm_spread\n",
    "\n",
    "\n",
    "plt.title('Krispy Kriem')\n",
    "\n",
    "plt.plot(spread)\n",
    "plt.plot(midprice)\n",
    "\n",
    "\n",
    "plt.plot(Norm_spread)"
   ]
  },
  {
   "cell_type": "code",
   "execution_count": null,
   "id": "05076282",
   "metadata": {},
   "outputs": [],
   "source": []
  }
 ],
 "metadata": {
  "interpreter": {
   "hash": "a49695489890079ed714899cc1d0dd18c739bf880436de81b0fcf34cd3526d7b"
  },
  "kernelspec": {
   "display_name": "Python 3.9.6 64-bit ('FBAex': conda)",
   "language": "python",
   "name": "python396jvsc74a57bd0a49695489890079ed714899cc1d0dd18c739bf880436de81b0fcf34cd3526d7b"
  },
  "language_info": {
   "codemirror_mode": {
    "name": "ipython",
    "version": 3
   },
   "file_extension": ".py",
   "mimetype": "text/x-python",
   "name": "python",
   "nbconvert_exporter": "python",
   "pygments_lexer": "ipython3",
   "version": "3.9.6"
  }
 },
 "nbformat": 4,
 "nbformat_minor": 5
}
